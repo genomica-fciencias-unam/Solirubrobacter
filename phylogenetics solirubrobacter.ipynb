{
 "cells": [
  {
   "cell_type": "code",
   "execution_count": null,
   "id": "dfc5ca8d",
   "metadata": {},
   "outputs": [],
   "source": [
    "# install.packages(\"ape\")\n",
    "# install.packages(\"phangorn\")\n",
    "\n",
    "\n",
    "library(ape)\n",
    "library(phangorn)\n"
   ]
  },
  {
   "cell_type": "code",
   "execution_count": null,
   "id": "c4641c56",
   "metadata": {},
   "outputs": [],
   "source": [
    "alignment <- read.phyDat(\"big_align_core.fst\", format=\"fasta\", type = \"AA\")\n",
    "alignment\n",
    "\n",
    "dm <- dist.ml(alignment)\n",
    "init_tree <- NJ(dm)\n",
    "model_test_result <- modelTest(alignment, tree = init_tree)\n",
    "\n",
    "best_model <- model_test_result$Name[which.min(model_test_result$AIC)]\n",
    "best_model\n",
    "\n",
    "\n"
   ]
  },
  {
   "cell_type": "code",
   "execution_count": null,
   "id": "a9334236",
   "metadata": {},
   "outputs": [],
   "source": [
    "save.image()"
   ]
  },
  {
   "cell_type": "code",
   "execution_count": null,
   "id": "d72e4570",
   "metadata": {},
   "outputs": [],
   "source": [
    "load(\"\")"
   ]
  },
  {
   "cell_type": "code",
   "execution_count": null,
   "id": "0f5d6531",
   "metadata": {},
   "outputs": [],
   "source": [
    "best_model <- model_test_result$Model[which.min(model_test_result$AIC)]\n",
    "best_model"
   ]
  },
  {
   "cell_type": "code",
   "execution_count": null,
   "id": "ac26d9b0",
   "metadata": {},
   "outputs": [],
   "source": [
    "# Initialize a PML object with the initial tree and alignment\n",
    "pml_init <- pml(tree = init_tree, data = alignment, model = \"LG\")\n",
    "\n",
    "# Set the initial proportion of invariable sites (e.g., 0.2 as a starting point)\n",
    "pml_init$inv <- 0.2\n",
    "\n",
    "# Run the optimization with gamma distribution and invariable sites\n",
    "opt_tree <- optim.pml(pml_init, model = \"LG\", k = 4, optInv = TRUE, optGamma = TRUE)\n"
   ]
  },
  {
   "cell_type": "code",
   "execution_count": null,
   "id": "3318ecb8",
   "metadata": {},
   "outputs": [],
   "source": [
    "plot(opt_tree, show.node.label = TRUE)"
   ]
  },
  {
   "cell_type": "code",
   "execution_count": null,
   "id": "df155862",
   "metadata": {},
   "outputs": [],
   "source": [
    "opt_phylo_tree <- opt_tree$tree\n",
    "#bootstraping:\n",
    "bs_samples <- bootstrap.pml(opt_tree, bs = 1000)\n",
    "print(class(bs_samples[[1]]))\n",
    "\n",
    "# Compute Bootstrap Trees\n",
    "bs_trees <- lapply(bs_samples, function(x) optim.pml(pml(tree = opt_phylo_tree, data = alignment, model = \"LG\")))\n",
    "#consensus tree\n",
    "# Extract the tree from the PML objects\n",
    "bs_phylo_trees <- lapply(bs_trees, function(x) x$tree)\n",
    "\n",
    "# Generate the consensus tree\n",
    "consensus_tree <- consensus(bs_phylo_trees)   \n",
    "\n",
    "                         #plot tree\n",
    "plot(consensus_tree, show.node.label = TRUE)\n",
    "\n",
    "                         "
   ]
  },
  {
   "cell_type": "code",
   "execution_count": null,
   "id": "455d336d",
   "metadata": {},
   "outputs": [],
   "source": []
  },
  {
   "cell_type": "code",
   "execution_count": null,
   "id": "346daa57",
   "metadata": {},
   "outputs": [],
   "source": [
    "# Save the consensus tree to a Newick file\n",
    "write.tree(consensus_tree, file = \"consensus_tree.newick\")\n"
   ]
  },
  {
   "cell_type": "markdown",
   "id": "7426c517",
   "metadata": {},
   "source": [
    "The model specification 'LG+G(4)+I' indicates the Le and Gascuel (LG) model with gamma-distributed rate variation across sites (G) and a proportion of invariable sites (I). In phangorn, the optim.pml function allows you to specify the substitution model, but the gamma distribution and invariable sites are set as additional parameters.\n",
    "\n",
    "\n",
    "Le, S. Q., & Gascuel, O. (2008). An Improved General Amino Acid Replacement Matrix. Molecular Biology and Evolution, 25(7), 1307–1320.\n",
    "\n",
    "\n"
   ]
  }
 ],
 "metadata": {
  "kernelspec": {
   "display_name": "R",
   "language": "R",
   "name": "ir"
  },
  "language_info": {
   "codemirror_mode": "r",
   "file_extension": ".r",
   "mimetype": "text/x-r-source",
   "name": "R",
   "pygments_lexer": "r",
   "version": "4.3.1"
  }
 },
 "nbformat": 4,
 "nbformat_minor": 5
}
