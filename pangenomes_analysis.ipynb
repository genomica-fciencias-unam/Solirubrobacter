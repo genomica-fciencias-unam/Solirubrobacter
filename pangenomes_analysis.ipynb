{
 "cells": [
  {
   "cell_type": "code",
   "execution_count": null,
   "id": "07fdbac3",
   "metadata": {},
   "outputs": [],
   "source": [
    "#Library loading\n",
    "library(UpSetR)\n",
    "library(dplyr)\n",
    "library(ggplot2)\n",
    "library(tibble)\n",
    "library(phyloseq)\n",
    "library(reshape2)\n",
    "library(scales)\n",
    "library(paletteer)\n",
    "library(hrbrthemes)\n",
    "library(ecodist)\n",
    "library(gplots)\n",
    "library(RColorBrewer)\n",
    "library(ape)\n",
    "library(vegan)\n",
    "library(gridExtra)\n",
    "library(ggrepel)\n",
    "library(forcats)\n",
    "library(microbiome)\n",
    "library(Biobase)\n",
    "library(tidyr)\n",
    "library(agricolae)\n",
    "library(dendextend)\n",
    "library(svglite)"
   ]
  },
  {
   "cell_type": "code",
   "execution_count": null,
   "id": "c41576c7",
   "metadata": {},
   "outputs": [],
   "source": [
    "#REFERENCES PANGENOME#"
   ]
  },
  {
   "cell_type": "code",
   "execution_count": null,
   "id": "fd4a1ad2",
   "metadata": {},
   "outputs": [],
   "source": [
    "#Obtaining UpSet plot\n",
    "pang_c=read.table(\"pangenome_references.tsv\", row.names=1)\n",
    "pang_c=pang_c[,-c(1)]\n",
    "pang_m=replace(pang_c, pang_c > 0, 1)\n",
    "pangenome_ups <- upset(pang_m, nsets = 36, number.angles = 0, point.size = 1.5, line.size = 0.5, text.scale=4,  \n",
    "      mainbar.y.label = \"Protein intersections\", sets.x.label = \"Proteins per sample\", nintersects=NA, \n",
    "                        order.by=\"freq\")\n",
    "pangenome_ups\n",
    "pdf(\"pang_ref_upset_complete.pdf\", height=20, width=70)\n",
    "pangenome_ups\n",
    "dev.off()"
   ]
  },
  {
   "cell_type": "code",
   "execution_count": null,
   "id": "b000392a",
   "metadata": {},
   "outputs": [],
   "source": [
    "#Using the annotation from COG to generate functional profile heatmap#\n",
    "Solirubrobacter_c = read.table(\"pang_eggnog_counts.tsv\", row.names=1)\n",
    "colnames(Solirubrobacter_c) = c(\"COG_Category\",\"PangenomeRef\",\"CoreRef\",\"Sginsenosidimutans\",\"Spauli\",\n",
    "                                \"SpCPCC\",\"Sphytolaccae\",\"SpURHD\",\"Ssoli\",\"Staibaiensis\")\n",
    "Solirubrobacter_c=Solirubrobacter_c[,-1]\n",
    "head(Solirubrobacter_c)"
   ]
  },
  {
   "cell_type": "code",
   "execution_count": null,
   "id": "cd407853",
   "metadata": {},
   "outputs": [],
   "source": [
    "#Standardizing per row using Z values\n",
    "z_ref_c <- t(Solirubrobacter_c)\n",
    "z_ref_c <- scale(z_ref_c,center = TRUE, scale = TRUE)\n",
    "Solirubrobacter_c=t(Solirubrobacter_c)\n",
    "rc_w.bray=distance(Solirubrobacter_c, \"bray-curtis\")\n",
    "rc_w.clust=hclust(rc_w.bray)\n",
    "plot(rc_w.clust, hang=-1)\n",
    "#Creating heatmap\n",
    "paleta <- colorRampPalette(brewer.pal(9, \"PuOr\"))\n",
    "z_ref_c=t(z_ref_c)\n",
    "dim(z_ref_c)\n",
    "heatmap.2(z_ref_c, trace=\"none\", Colv=as.dendrogram(rc_w.clust), col=paleta)\n",
    "\n",
    "svg(\"hm2_eggnog_ref_2ways.svg\", height=17, width=10)\n",
    "heatmap.2(z_ref_c, trace=\"none\", Colv=as.dendrogram(rc_w.clust), col=paleta)\n",
    "dev.off()"
   ]
  },
  {
   "cell_type": "code",
   "execution_count": null,
   "id": "dcb9a520",
   "metadata": {},
   "outputs": [],
   "source": [
    "#Creating bar plot with CDS per sample of the references#\n",
    "cds = t(read.table(\"cds_strains.tsv\", row.names=1)) #This table was generated from each reference genome information\n",
    "rownames(cds) = c(\"CDS\")\n",
    "svg(\"cds_ref.svg\")\n",
    "cds_plot=barplot(cds, las=\"2\")\n",
    "cds_plot\n",
    "dev.off()"
   ]
  },
  {
   "cell_type": "code",
   "execution_count": null,
   "id": "a7e9b468",
   "metadata": {},
   "outputs": [],
   "source": [
    "#Gene families analysis#\n",
    "gene_c = read.table(\"all.genefam.counts.tsv\", row.names=1, header=TRUE)\n",
    "colnames(gene_c) = c(\"Cluster\",\"Soil_1\",\"Soil_2\",\"Soil_3\",\"Soil_4\",\"Rhizosphere_1\",\"Rhizosphere_2\",\"Rhizosphere_3\",\"Rhizosphere_4\",\"Rhizosphere_5\",\"Soil_5\",\"Soil_6\",\"Rhizosphere_6\",\"Rhizosphere_7\",\"Rhizosphere_8\",\"Rhizosphere_9\",\"Rhizosphere_10\",\"Sginsenosidimutans\",\"Spauli\",\"SpCPCC\",\"Sphytolaccae\",\"SpURHD\",\"Ssoli\",\"Staibaiensis\")\n",
    "gene_c=gene_c[,2:24]\n",
    "max(gene_c)"
   ]
  },
  {
   "cell_type": "code",
   "execution_count": null,
   "id": "b7fbdb3d",
   "metadata": {},
   "outputs": [],
   "source": [
    "#For only singeltons\n",
    "gene_1=replace(gene_c, gene_c > 1, 0)\n",
    "#Removing rows having all zeros\n",
    "gene_1=gene_1[rowSums(gene_1[])>0,]\n",
    "write.table(gene_1,\"gene_1.tsv\", quote=FALSE, sep='\\t')\n",
    "dim(gene_1)\n",
    "max(gene_1)\n",
    "#For families with 2-5 genes\n",
    "gene_25=replace(gene_c, gene_c < 2, 0)\n",
    "gene_25=replace(gene_25, gene_25 > 5, 0)\n",
    "#Removing rows having all zeros\n",
    "gene_25=gene_25[rowSums(gene_25[])>0,]\n",
    "write.table(gene_25,\"gene_25.tsv\", quote=FALSE, sep='\\t')\n",
    "dim(gene_25)\n",
    "For families with more than 6 genes\n",
    "gene_6=replace(gene_c, gene_c < 6, 0)\n",
    "#Removing rows having all zeros\n",
    "gene_6=gene_6[rowSums(gene_6[])>0,]\n",
    "write.table(gene_6,\"gene_6.tsv\", quote=FALSE, sep='\\t')\n",
    "dim(gene_6)\n",
    "#Obtaining families that belong to the same representative sequence (a total of 8 for families of 6-9 genes)\n",
    "gene_6_d=replace(gene_6, gene_6>0, 1)\n",
    "write.table(gene_6_d,\"gene_6_d.tsv\", quote=FALSE, sep='\\t')"
   ]
  },
  {
   "cell_type": "code",
   "execution_count": null,
   "id": "f221846f",
   "metadata": {},
   "outputs": [],
   "source": [
    "t=read.table(\"gene_fam_6_ref_2.tsv\", header=TRUE, row.names = 1)\n",
    "dim(t)\n",
    "dataframe <- data.frame(t)"
   ]
  },
  {
   "cell_type": "code",
   "execution_count": null,
   "id": "d6e2d80e",
   "metadata": {},
   "outputs": [],
   "source": [
    "#Creating bubble plot for gene familes with six or more genes\n",
    "ggplot(dataframe, aes(x = Species, y = Protein,\n",
    "                      size = Size,\n",
    "                      color = COG_Category))+\n",
    "geom_point(alpha = 0.8)+ theme_light()+\n",
    "scale_size(range = c(5, 22), name = \"Number of GF\")+\n",
    "  scale_colour_paletteer_d((\"ggsci::default_igv\")) \n",
    "\n",
    "ggsave(\"gene_fam6_bubbles.svg\", height=9, width=10)"
   ]
  },
  {
   "cell_type": "code",
   "execution_count": null,
   "id": "ab288189",
   "metadata": {},
   "outputs": [],
   "source": []
  },
  {
   "cell_type": "code",
   "execution_count": null,
   "id": "dbae67be",
   "metadata": {},
   "outputs": [],
   "source": [
    "#ENVIRONMENTAL EXPANDED PANGENOME (EEP)#"
   ]
  },
  {
   "cell_type": "code",
   "execution_count": null,
   "id": "a462faed",
   "metadata": {},
   "outputs": [],
   "source": [
    "#Constructing functional profile using COG annotation#\n",
    "#Constructing dendrogram\n",
    "pang_a = data.matrix(read.table(\"pang_new_eggnog_counts.tsv\", row.names=1, header=TRUE))\n",
    "pang_a=t(pang_a[,-c(1)])\n",
    "pa.bray=distance(pang_a, \"bray-curtis\")\n",
    "pa.clust=hclust(pa.bray)\n",
    "plot(pa.clust, hang=-1)\n",
    "#Standardizing per row using Z value\n",
    "pang_a = data.matrix(read.table(\"pang_new_eggnog_counts.tsv\", row.names=1, header=TRUE))\n",
    "pang_a=t(pang_a[,-c(1)])\n",
    "z_pang_a <- scale(pang_a,center = TRUE, scale = TRUE)\n",
    "#Plotting heatmap\n",
    "paleta <- colorRampPalette(brewer.pal(9, \"PuOr\"))\n",
    "z_pang_a=t(z_pang_a)\n",
    "heatmap.2(z_pang_a, trace=\"none\", Colv=as.dendrogram(pa.clust), col=paleta)"
   ]
  },
  {
   "cell_type": "code",
   "execution_count": null,
   "id": "b06c4c69",
   "metadata": {},
   "outputs": [],
   "source": []
  },
  {
   "cell_type": "code",
   "execution_count": null,
   "id": "514c5b92",
   "metadata": {},
   "outputs": [],
   "source": [
    "#EEP diversity analysis"
   ]
  },
  {
   "cell_type": "code",
   "execution_count": null,
   "id": "2467f756",
   "metadata": {},
   "outputs": [],
   "source": [
    "#Loading count table\n",
    "p=as.matrix(read.table(\"pang_new_eggnog_counts2.tsv\", header = TRUE))\n",
    "colnames(p)=c(\"Soil_1\",\"Soil_2\",\"Soil_3\",\"Soil_4\",\"Rhizosphere_1\",\"Rhizosphere_2\",\"Rhizosphere_3\",\"Rhizosphere_4\",\"Rhizosphere_5\",\"Sginsenosidimutans\",\"Soil_5\",\"Soil_6\",\"Spauli\",\"SpCPCC\",\"Sphytolaccae\",\"SpURHD\",\"Ssoli\",\"Staibaiensis\",\"Rhizosphere_6\",\"Rhizosphere_7\",\"Rhizosphere_8\",\"Rhizosphere_9\",\"Rhizosphere_10\",\"PangenomeExt\",\"CoreRef\",\"PangenomeRef\")\n",
    "PROT = otu_table(p, taxa_are_rows=T)\n",
    "#Loading annotation table\n",
    "tax=as.matrix(read.table(\"allcounts_tax.tsv\",row.names=1,fill=TRUE))\n",
    "TAXA=tax_table(tax)\n",
    "colnames(TAXA)=c(\"COG_category\")\n",
    "#Creating phyloseq object\n",
    "prot2=phyloseq(PROT,TAXA)\n",
    "#Loading metadata table\n",
    "prot_data=read.table(\"allcounts_data.tsv\", header=TRUE, row.names=1, sep=\"\\t\")\n",
    "sampledata=sample_data(data.frame(samples=prot_data$samples,country=prot_data$country,soil_type=prot_data$soil_type,origin=prot_data$origin,host=prot_data$host,type=prot_data$type,dummy=prot_data$dummy,cluster=prot_data$Cluster,comp=prot_data$comp,row.names=sample_names(prot2)))\n",
    "#Creating phyloseq object\n",
    "prot=phyloseq(PROT,TAXA,sampledata)\n",
    "prot"
   ]
  },
  {
   "cell_type": "code",
   "execution_count": null,
   "id": "12caf400",
   "metadata": {},
   "outputs": [],
   "source": [
    "#Using ANOSIM to determine significance \n",
    "tPROT=t(PROT)\n",
    "prot_CAP.bray=vegdist(decostand(tPROT,\"normalize\"),method=\"bray\")\n",
    "ans_c = anosim(tPROT, sampledata$country, distance = \"bray\", permutations = 9999) \n",
    "ans_c \n",
    "ans_o = anosim(tPROT, sampledata$origin, distance = \"bray\", permutations = 9999)\n",
    "ans_o \n",
    "ans_h = anosim(tPROT, sampledata$host, distance = \"bray\", permutations = 9999)\n",
    "ans_h \n",
    "ans_s = anosim(tPROT, sampledata$soil_type, distance = \"bray\", permutations = 9999)\n",
    "ans_s \n",
    "ans_2 = anosim(tPROT, sampledata$comp, distance = \"bray\", permutations = 9999)\n",
    "ans_2\n",
    "ans_cl = anosim(tPROT, sampledata$cluster, distance = \"bray\", permutations = 9999) \n",
    "ans_cl"
   ]
  },
  {
   "cell_type": "code",
   "execution_count": null,
   "id": "e708250f",
   "metadata": {},
   "outputs": [],
   "source": [
    "#Plotting PCoA ordination using Bray-curtis dissimilarity matrix\n",
    "prot.nmds.bray=ordinate(prot, \"PCoA\", \"bray\")\n",
    "plot_ordination(prot, prot.nmds.bray, shape=\"type\", type=\"samples\",color=\"host\",title=\"PCoA Bray\")+\n",
    "    geom_text(mapping = aes(label = samples), size = 3, vjust = -0.9, hjust=1) + theme_bw() + \n",
    "    geom_point(size = 5)+scale_colour_paletteer_d(\"ggsci::springfield_simpsons\")\n",
    "ggsave(\"pcoabray_all_annot.svg\")"
   ]
  }
 ],
 "metadata": {
  "kernelspec": {
   "display_name": "R",
   "language": "R",
   "name": "ir"
  },
  "language_info": {
   "codemirror_mode": "r",
   "file_extension": ".r",
   "mimetype": "text/x-r-source",
   "name": "R",
   "pygments_lexer": "r",
   "version": "4.1.2"
  }
 },
 "nbformat": 4,
 "nbformat_minor": 5
}
